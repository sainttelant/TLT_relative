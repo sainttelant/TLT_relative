{
 "cells": [
  {
   "cell_type": "markdown",
   "metadata": {},
   "source": [
    "# Object Detection using TLT DetectNet_v2\n",
    "\n",
    "Transfer learning is the process of transferring learned features from one application to another. It is a commonly used training technique where you use a model trained on one task and re-train to use it on a different task. \n",
    "\n",
    "Transfer Learning Toolkit (TLT) is a simple and easy-to-use Python based AI toolkit for taking purpose-built AI models and customizing them with users' own data.\n",
    "\n",
    "<img align=\"center\" src=\"https://developer.nvidia.com/sites/default/files/akamai/embedded-transfer-learning-toolkit-software-stack-1200x670px.png\" width=\"1080\"> "
   ]
  },
  {
   "cell_type": "markdown",
   "metadata": {},
   "source": [
    "## Learning Objectives\n",
    "In this notebook, you will learn how to leverage the simplicity and convenience of TLT to:\n",
    "\n",
    "* Take a pretrained resnet18 model and train a ResNet-18 DetectNet_v2 model on the KITTI dataset\n",
    "* Prune the trained detectnet_v2 model\n",
    "* Retrain the pruned model to recover lost accuracy\n",
    "* Export the pruned model\n",
    "* Quantize the pruned model using QAT\n",
    "* Run Inference on the trained model\n",
    "* Export the pruned, quantized and retrained model to a .etlt file for deployment to DeepStream\n",
    "* Run inference on the exported. etlt model to verify deployment using TensorRT\n",
    "\n",
    "### Table of Contents\n",
    "\n",
    "This notebook shows an example usecase of Object Detection using DetectNet_v2 in the Transfer Learning Toolkit.\n",
    "\n",
    "0. [Set up env variables and map drives](#head-0)\n",
    "1. [Install the TLT Launcher](#head-1)\n",
    "1. [Prepare dataset and pre-trained model](#head-2)\n",
    "    1. [Download the dataset](#head-2-1)\n",
    "    1. [Verify downloaded dataset](#head-2-2)\n",
    "    1. [Prepare tfrecords from kitti format dataset](#head-2-3)\n",
    "    2. [Download pre-trained model](#head-2-4)\n",
    "2. [Provide training specification](#head-3)\n",
    "3. [Run TLT training](#head-4)\n",
    "4. [Evaluate trained models](#head-5)\n",
    "5. [Prune trained models](#head-6)\n",
    "6. [Retrain pruned models](#head-7)\n",
    "7. [Evaluate retrained model](#head-8)\n",
    "8. [Visualize inferences](#head-9)\n",
    "9. [Model Export](#head-10)\n",
    "    1. [Int8 Optimization](#head-10-1)\n",
    "    2. [Generate TensorRT engine](#head-10-2)\n",
    "10. [Verify Deployed Model](#head-11)\n",
    "    1. [Inference using TensorRT engine](#head-11-1)\n",
    "11. [QAT workflow](#head-12)\n",
    "    1. [Convert pruned model to QAT and retrain](#head-12-1)\n",
    "    2. [Evaluate QAT converted model](#head-12-2)\n",
    "    3. [Export QAT trained model to int8](#head-12-3)\n",
    "    4. [Evaluate a QAT trained model using the exported TensorRT engine](#head-12-4)\n",
    "    5. [Inference using QAT engine](#head-12-5)"
   ]
  },
  {
   "cell_type": "markdown",
   "metadata": {},
   "source": [
    "## 0. Set up env variables and map drives <a class=\"anchor\" id=\"head-0\"></a>\n",
    "When using the purpose-built pretrained models from NGC, please make sure to set the `$KEY` environment variable to the key as mentioned in the model overview. Failing to do so, can lead to errors when trying to load them as pretrained models.\n",
    "\n",
    "The following notebook requires the user to set an env variable called the `$LOCAL_PROJECT_DIR` as the path to the users workspace. Please note that the dataset to run this notebook is expected to reside in the `$LOCAL_PROJECT_DIR/data`, while the TLT experiment generated collaterals will be output to `$LOCAL_PROJECT_DIR/detectnet_v2`. More information on how to set up the dataset and the supported steps in the TLT workflow are provided in the subsequent cells.\n",
    "\n",
    "*Note: Please make sure to remove any stray artifacts/files from the `$USER_EXPERIMENT_DIR` or `$DATA_DOWNLOAD_DIR` paths as mentioned below, that may have been generated from previous experiments. Having checkpoint files etc may interfere with creating a training graph for a new experiment.*\n",
    "\n",
    "*Note: This notebook currently is by default set up to run training using 1 GPU. To use more GPU's please update the env variable `$NUM_GPUS` accordingly*"
   ]
  },
  {
   "cell_type": "code",
   "execution_count": 1,
   "metadata": {
    "scrolled": true
   },
   "outputs": [
    {
     "name": "stdout",
     "output_type": "stream",
     "text": [
      "env: KEY=tlt_encode\n",
      "env: NUM_GPUS=1\n",
      "env: USER_EXPERIMENT_DIR=/workspace/tlt-experiments/detectnet_v2\n",
      "env: DATA_DOWNLOAD_DIR=/workspace/tlt-experiments/data\n",
      "env: SPECS_DIR=/workspace/tlt-experiments/detectnet_v2/specs\n",
      "total 44\r\n",
      "-rw-rw-r-- 1 ucit ucit 5598 2月  25 21:15 detectnet_v2_train_resnet18_kitti.txt\r\n",
      "-rw-rw-r-- 1 ucit ucit  310 2月  25 21:15 detectnet_v2_tfrecords_kitti_trainval.txt\r\n",
      "-rw-rw-r-- 1 ucit ucit 5612 2月  25 21:15 detectnet_v2_retrain_resnet18_kitti.txt\r\n",
      "-rw-rw-r-- 1 ucit ucit 5675 2月  25 21:15 detectnet_v2_retrain_resnet18_kitti_qat.txt\r\n",
      "-rw-rw-r-- 1 ucit ucit 2406 2月  25 21:15 detectnet_v2_inference_kitti_tlt.txt\r\n",
      "-rw-rw-r-- 1 ucit ucit 2436 2月  25 21:15 detectnet_v2_inference_kitti_etlt.txt\r\n",
      "-rw-rw-r-- 1 ucit ucit 2445 2月  25 21:15 detectnet_v2_inference_kitti_etlt_qat.txt\r\n",
      "drwxr-xr-x 3 root root 4096 4月  14 13:23 tfrecords\r\n"
     ]
    }
   ],
   "source": [
    "# Setting up env variables for cleaner command line commands.\n",
    "import os\n",
    "\n",
    "%env KEY=tlt_encode\n",
    "%env NUM_GPUS=1\n",
    "%env USER_EXPERIMENT_DIR=/workspace/tlt-experiments/detectnet_v2\n",
    "%env DATA_DOWNLOAD_DIR=/workspace/tlt-experiments/data\n",
    "\n",
    "# Set this path if you don't run the notebook from the samples directory.\n",
    "# %env NOTEBOOK_ROOT=~/tlt-samples/detectnet_v2\n",
    "\n",
    "# Please define this local project directory that needs to be mapped to the TLT docker session.\n",
    "# The dataset expected to be present in $LOCAL_PROJECT_DIR/data, while the results for the steps\n",
    "# in this notebook will be stored at $LOCAL_PROJECT_DIR/detectnet_v2\n",
    "# !PLEASE MAKE SURE TO UPDATE THIS PATH!.\n",
    "\n",
    "os.environ[\"LOCAL_PROJECT_DIR\"] = \"/home/ucit/TESTData\"\n",
    "\n",
    "os.environ[\"LOCAL_DATA_DIR\"] = os.path.join(\n",
    "    os.getenv(\"LOCAL_PROJECT_DIR\", os.getcwd()),\n",
    "    \"data\"\n",
    ")\n",
    "os.environ[\"LOCAL_EXPERIMENT_DIR\"] = os.path.join(\n",
    "    os.getenv(\"LOCAL_PROJECT_DIR\", os.getcwd()),\n",
    "    \"detectnet_v2\"\n",
    ")\n",
    "\n",
    "# The sample spec files are present in the same path as the downloaded samples.\n",
    "os.environ[\"LOCAL_SPECS_DIR\"] = os.path.join(\n",
    "    os.getenv(\"NOTEBOOK_ROOT\", os.getcwd()),\n",
    "    \"specs\"\n",
    ")\n",
    "%env SPECS_DIR=/workspace/tlt-experiments/detectnet_v2/specs\n",
    "\n",
    "# Showing list of specification files.\n",
    "!ls -rlt $LOCAL_SPECS_DIR"
   ]
  },
  {
   "cell_type": "markdown",
   "metadata": {},
   "source": [
    "The cell below maps the project directory on your local host to a workspace directory in the TLT docker instance, so that the data and the results are mapped from in and out of the docker. For more information please refer to the [launcher instance](https://docs.nvidia.com/metropolis/TLT/tlt-user-guide/tlt_launcher.html) in the user"
   ]
  },
  {
   "cell_type": "code",
   "execution_count": 2,
   "metadata": {},
   "outputs": [],
   "source": [
    "# Mapping up the local directories to the TLT docker.\n",
    "import json\n",
    "mounts_file = os.path.expanduser(\"~/.tlt_mounts.json\")\n",
    "\n",
    "# Define the dictionary with the mapped drives\n",
    "drive_map = {\n",
    "    \"Mounts\": [\n",
    "        # Mapping the data directory\n",
    "        {\n",
    "            \"source\": os.environ[\"LOCAL_PROJECT_DIR\"],\n",
    "            \"destination\": \"/workspace/tlt-experiments\"\n",
    "        },\n",
    "        # Mapping the specs directory.\n",
    "        {\n",
    "            \"source\": os.environ[\"LOCAL_SPECS_DIR\"],\n",
    "            \"destination\": os.environ[\"SPECS_DIR\"]\n",
    "        },\n",
    "    ]\n",
    "}\n",
    "\n",
    "# Writing the mounts file.\n",
    "with open(mounts_file, \"w\") as mfile:\n",
    "    json.dump(drive_map, mfile, indent=4)"
   ]
  },
  {
   "cell_type": "code",
   "execution_count": 3,
   "metadata": {},
   "outputs": [
    {
     "name": "stdout",
     "output_type": "stream",
     "text": [
      "{\r\n",
      "    \"Mounts\": [\r\n",
      "        {\r\n",
      "            \"source\": \"/home/ucit/TESTData\",\r\n",
      "            \"destination\": \"/workspace/tlt-experiments\"\r\n",
      "        },\r\n",
      "        {\r\n",
      "            \"source\": \"/home/ucit/tlt_cv_samples_v1.0.2/detectnet_v2/specs\",\r\n",
      "            \"destination\": \"/workspace/tlt-experiments/detectnet_v2/specs\"\r\n",
      "        }\r\n",
      "    ]\r\n",
      "}"
     ]
    }
   ],
   "source": [
    "!cat ~/.tlt_mounts.json"
   ]
  },
  {
   "cell_type": "markdown",
   "metadata": {},
   "source": [
    "## 1. Install the TLT launcher <a class=\"anchor\" id=\"head-1\"></a>\n",
    "The TLT launcher is a python package distributed as a python wheel listed in the `nvidia-pyindex` python index. You may install the launcher by executing the following cell.\n",
    "\n",
    "Please note that TLT recommends users to run the TLT launcher in a virtual env with python 3.6.9. You may follow the instruction in this [page](https://virtualenvwrapper.readthedocs.io/en/latest/install.html) to set up a python virtual env using the `virtualenv` and `virtualenvwrapper` packages. Once you have setup virtualenvwrapper, please set the version of python to be used in the virtual env by using the `VIRTUALENVWRAPPER_PYTHON` variable. You may do so by running\n",
    "\n",
    "```sh\n",
    "export VIRTUALENVWRAPPER_PYTHON=/path/to/bin/python3.x\n",
    "```\n",
    "where x >= 6 and <= 8\n",
    "\n",
    "We recommend performing this step first and then launching the notebook from the virtual environment. In addition to installing TLT python package, please make sure of the following software requirements:\n",
    "* python >=3.6.9 < 3.8.x\n",
    "* docker-ce > 19.03.5\n",
    "* docker-API 1.40\n",
    "* nvidia-container-toolkit > 1.3.0-1\n",
    "* nvidia-container-runtime > 3.4.0-1\n",
    "* nvidia-docker2 > 2.5.0-1\n",
    "* nvidia-driver > 455+\n",
    "\n",
    "Once you have installed the pre-requisites, please log in to the docker registry nvcr.io by following the command below\n",
    "\n",
    "```sh\n",
    "docker login nvcr.io\n",
    "```\n",
    "\n",
    "You will be trigerred to enter a username and password. The username is `$oauthtoken` and the password is the API key generated from `ngc.nvidia.com`. Please follow the instructions in the [NGC setup guide](https://docs.nvidia.com/ngc/ngc-overview/index.html#generating-api-key) to generate your own API key."
   ]
  },
  {
   "cell_type": "code",
   "execution_count": 4,
   "metadata": {},
   "outputs": [
    {
     "name": "stdout",
     "output_type": "stream",
     "text": [
      "Configuration of the TLT Instance\r\n",
      "dockers: ['nvcr.io/nvidia/tlt-streamanalytics', 'nvcr.io/nvidia/tlt-pytorch']\r\n",
      "format_version: 1.0\r\n",
      "tlt_version: 3.0\r\n",
      "published_date: 02/02/2021\r\n"
     ]
    }
   ],
   "source": [
    "# View the versions of the TLT launcher\n",
    "!tlt info"
   ]
  },
  {
   "cell_type": "markdown",
   "metadata": {},
   "source": [
    "## 2. Prepare dataset and pre-trained model <a class=\"anchor\" id=\"head-2\"></a>"
   ]
  },
  {
   "cell_type": "markdown",
   "metadata": {},
   "source": [
    "We will be using the kitti object detection dataset for this example. To find more details, please visit http://www.cvlibs.net/datasets/kitti/eval_object.php?obj_benchmark=2d. Please download both, the left color images of the object dataset from [here](http://www.cvlibs.net/download.php?file=data_object_image_2.zip) and, the training labels for the object dataset from [here](http://www.cvlibs.net/download.php?file=data_object_label_2.zip), and place the zip files in `$LOCAL_DATA_DIR`\n",
    "\n",
    "The data will then be extracted to have\n",
    "* training images in `$LOCAL_DATA_DIR/training/image_2`\n",
    "* training labels in `$LOCAL_DATA_DIR/training/label_2`\n",
    "* testing images in `$LOCAL_DATA_DIR/testing/image_2`\n",
    "\n",
    "You may use this notebook with your own dataset as well. To use this example with your own dataset, please follow the same directory structure as mentioned below.\n",
    "\n",
    "*Note: There are no labels for the testing images, therefore we use it just to visualize inferences for the trained model.*"
   ]
  },
  {
   "cell_type": "markdown",
   "metadata": {},
   "source": [
    "### A. Download the dataset <a class=\"anchor\" id=\"head-2-1\"></a>\n",
    "Once you have gotten the download links in your email, please populate them in place of the `KITTI_IMAGES_DOWNLOAD_URL` and the `KITTI_LABELS_DOWNLOAD_URL`. This next cell, will download the data and place in `$LOCAL_DATA_DIR`"
   ]
  },
  {
   "cell_type": "markdown",
   "metadata": {},
   "source": [
    "### B. Verify downloaded dataset <a class=\"anchor\" id=\"head-2-2\"></a>"
   ]
  },
  {
   "cell_type": "code",
   "execution_count": null,
   "metadata": {},
   "outputs": [],
   "source": [
    "# unpack downloaded datasets to $DATA_DOWNLOAD_DIR.\n",
    "# The training images will be under $DATA_DOWNLOAD_DIR/training/image_2 and \n",
    "# labels will be under $DATA_DOWNLOAD_DIR/training/label_2.\n",
    "# The testing images will be under $DATA_DOWNLOAD_DIR/testing/image_2.\n",
    "!unzip -u $LOCAL_DATA_DIR/data_object_image_2.zip -d $LOCAL_DATA_DIR\n",
    "!unzip -u $LOCAL_DATA_DIR/data_object_label_2.zip -d $LOCAL_DATA_DIR"
   ]
  },
  {
   "cell_type": "code",
   "execution_count": 5,
   "metadata": {},
   "outputs": [
    {
     "name": "stdout",
     "output_type": "stream",
     "text": [
      "Number of images in the train/val set. 51288\n",
      "Number of labels in the train/val set. 51288\n",
      "Number of images in the test set. 7518\n"
     ]
    }
   ],
   "source": [
    "# verify\n",
    "import os\n",
    "\n",
    "DATA_DIR = os.environ.get('LOCAL_DATA_DIR')\n",
    "num_training_images = len(os.listdir(os.path.join(DATA_DIR, \"training/image_2\")))\n",
    "num_training_labels = len(os.listdir(os.path.join(DATA_DIR, \"training/label_2\")))\n",
    "num_testing_images = len(os.listdir(os.path.join(DATA_DIR, \"testing/image_2\")))\n",
    "print(\"Number of images in the train/val set. {}\".format(num_training_images))\n",
    "print(\"Number of labels in the train/val set. {}\".format(num_training_labels))\n",
    "print(\"Number of images in the test set. {}\".format(num_testing_images))"
   ]
  },
  {
   "cell_type": "code",
   "execution_count": 7,
   "metadata": {},
   "outputs": [
    {
     "name": "stdout",
     "output_type": "stream",
     "text": [
      "Cars 0.0 0 -1 208.0 247.0 300.0 286.0 -1 -1 -1 -1 -1 -1 -1\r",
      "\r",
      "\r\n",
      "Cars 0.0 0 -1 0.0 436.0 169.0 526.0 -1 -1 -1 -1 -1 -1 -1\r",
      "\r",
      "\r\n",
      "Cars 0.0 0 -1 491.0 282.0 580.0 324.0 -1 -1 -1 -1 -1 -1 -1\r",
      "\r",
      "\r\n",
      "Cars 0.0 0 -1 931.0 235.0 959.0 269.0 -1 -1 -1 -1 -1 -1 -1\r",
      "\r",
      "\r\n"
     ]
    }
   ],
   "source": [
    "# Sample kitti label.\n",
    "!cat $LOCAL_DATA_DIR/training/label_2/MVI_40732__img01272.txt"
   ]
  },
  {
   "cell_type": "markdown",
   "metadata": {},
   "source": [
    "### C. Prepare tf records from kitti format dataset <a class=\"anchor\" id=\"head-2-3\"></a>\n",
    "\n",
    "* Update the tfrecords spec file to take in your kitti format dataset\n",
    "* Create the tfrecords using the detectnet_v2 dataset_convert \n",
    "\n",
    "*Note: TfRecords only need to be generated once.*"
   ]
  },
  {
   "cell_type": "code",
   "execution_count": 8,
   "metadata": {
    "scrolled": true
   },
   "outputs": [
    {
     "name": "stdout",
     "output_type": "stream",
     "text": [
      "TFrecords conversion spec file for kitti training\n",
      "kitti_config {\r\n",
      "  root_directory_path: \"/workspace/tlt-experiments/data/training\"\r\n",
      "  image_dir_name: \"image_2\"\r\n",
      "  label_dir_name: \"label_2\"\r\n",
      "  image_extension: \".png\"\r\n",
      "  partition_mode: \"random\"\r\n",
      "  num_partitions: 2\r\n",
      "  val_split: 14\r\n",
      "  num_shards: 10\r\n",
      "}\r\n",
      "image_directory_path: \"/workspace/tlt-experiments/data/training\"\r\n"
     ]
    }
   ],
   "source": [
    "print(\"TFrecords conversion spec file for kitti training\")\n",
    "!cat $LOCAL_SPECS_DIR/detectnet_v2_tfrecords_kitti_trainval.txt"
   ]
  },
  {
   "cell_type": "code",
   "execution_count": 9,
   "metadata": {},
   "outputs": [
    {
     "name": "stdout",
     "output_type": "stream",
     "text": [
      "Converting Tfrecords for kitti trainval dataset\n",
      "2021-04-16 13:18:40,329 [WARNING] tlt.components.docker_handler.docker_handler: \n",
      "Docker will run the commands as root. If you would like to retain your\n",
      "local host permissions, please add the \"user\":\"UID:GID\" in the\n",
      "DockerOptions portion of the ~/.tlt_mounts.json file. You can obtain your\n",
      "users UID and GID by using the \"id -u\" and \"id -g\" commands on the\n",
      "terminal.\n",
      "Using TensorFlow backend.\n",
      "WARNING:tensorflow:Deprecation warnings have been disabled. Set TF_ENABLE_DEPRECATION_WARNINGS=1 to re-enable them.\n",
      "Using TensorFlow backend.\n",
      "2021-04-16 05:18:44,635 - iva.detectnet_v2.dataio.build_converter - INFO - Instantiating a kitti converter\n",
      "2021-04-16 05:18:44,635 - iva.detectnet_v2.dataio.dataset_converter_lib - INFO - Creating output directory /workspace/tlt-experiments/data/tfrecords/kitti_trainval\n",
      "2021-04-16 05:18:44,681 - iva.detectnet_v2.dataio.kitti_converter_lib - INFO - Num images in\n",
      "Train: 0\tVal: 0\n",
      "2021-04-16 05:18:44,681 - iva.detectnet_v2.dataio.kitti_converter_lib - INFO - Validation data in partition 0. Hence, while choosing the validationset during training choose validation_fold 0.\n",
      "2021-04-16 05:18:44,681 - iva.detectnet_v2.dataio.dataset_converter_lib - INFO - Writing partition 0, shard 0\n",
      "WARNING:tensorflow:From /home/vpraveen/.cache/dazel/_dazel_vpraveen/216c8b41e526c3295d3b802489ac2034/execroot/ai_infra/bazel-out/k8-fastbuild/bin/magnet/packages/iva/build_wheel.runfiles/ai_infra/iva/detectnet_v2/dataio/dataset_converter_lib.py:142: The name tf.python_io.TFRecordWriter is deprecated. Please use tf.io.TFRecordWriter instead.\n",
      "\n",
      "2021-04-16 05:18:44,681 - tensorflow - WARNING - From /home/vpraveen/.cache/dazel/_dazel_vpraveen/216c8b41e526c3295d3b802489ac2034/execroot/ai_infra/bazel-out/k8-fastbuild/bin/magnet/packages/iva/build_wheel.runfiles/ai_infra/iva/detectnet_v2/dataio/dataset_converter_lib.py:142: The name tf.python_io.TFRecordWriter is deprecated. Please use tf.io.TFRecordWriter instead.\n",
      "\n",
      "2021-04-16 05:18:44,681 - iva.detectnet_v2.dataio.dataset_converter_lib - INFO - Writing partition 0, shard 1\n",
      "2021-04-16 05:18:44,681 - iva.detectnet_v2.dataio.dataset_converter_lib - INFO - Writing partition 0, shard 2\n",
      "2021-04-16 05:18:44,681 - iva.detectnet_v2.dataio.dataset_converter_lib - INFO - Writing partition 0, shard 3\n",
      "2021-04-16 05:18:44,681 - iva.detectnet_v2.dataio.dataset_converter_lib - INFO - Writing partition 0, shard 4\n",
      "2021-04-16 05:18:44,681 - iva.detectnet_v2.dataio.dataset_converter_lib - INFO - Writing partition 0, shard 5\n",
      "2021-04-16 05:18:44,681 - iva.detectnet_v2.dataio.dataset_converter_lib - INFO - Writing partition 0, shard 6\n",
      "2021-04-16 05:18:44,682 - iva.detectnet_v2.dataio.dataset_converter_lib - INFO - Writing partition 0, shard 7\n",
      "2021-04-16 05:18:44,682 - iva.detectnet_v2.dataio.dataset_converter_lib - INFO - Writing partition 0, shard 8\n",
      "2021-04-16 05:18:44,682 - iva.detectnet_v2.dataio.dataset_converter_lib - INFO - Writing partition 0, shard 9\n",
      "2021-04-16 05:18:44,682 - iva.detectnet_v2.dataio.dataset_converter_lib - INFO - \n",
      "Wrote the following numbers of objects:\n",
      "\n",
      "2021-04-16 05:18:44,682 - iva.detectnet_v2.dataio.dataset_converter_lib - INFO - Writing partition 1, shard 0\n",
      "2021-04-16 05:18:44,682 - iva.detectnet_v2.dataio.dataset_converter_lib - INFO - Writing partition 1, shard 1\n",
      "2021-04-16 05:18:44,682 - iva.detectnet_v2.dataio.dataset_converter_lib - INFO - Writing partition 1, shard 2\n",
      "2021-04-16 05:18:44,682 - iva.detectnet_v2.dataio.dataset_converter_lib - INFO - Writing partition 1, shard 3\n",
      "2021-04-16 05:18:44,682 - iva.detectnet_v2.dataio.dataset_converter_lib - INFO - Writing partition 1, shard 4\n",
      "2021-04-16 05:18:44,682 - iva.detectnet_v2.dataio.dataset_converter_lib - INFO - Writing partition 1, shard 5\n",
      "2021-04-16 05:18:44,682 - iva.detectnet_v2.dataio.dataset_converter_lib - INFO - Writing partition 1, shard 6\n",
      "2021-04-16 05:18:44,682 - iva.detectnet_v2.dataio.dataset_converter_lib - INFO - Writing partition 1, shard 7\n",
      "2021-04-16 05:18:44,682 - iva.detectnet_v2.dataio.dataset_converter_lib - INFO - Writing partition 1, shard 8\n",
      "2021-04-16 05:18:44,683 - iva.detectnet_v2.dataio.dataset_converter_lib - INFO - Writing partition 1, shard 9\n",
      "2021-04-16 05:18:44,683 - iva.detectnet_v2.dataio.dataset_converter_lib - INFO - \n",
      "Wrote the following numbers of objects:\n",
      "\n",
      "2021-04-16 05:18:44,683 - iva.detectnet_v2.dataio.dataset_converter_lib - INFO - Cumulative object statistics\n",
      "2021-04-16 05:18:44,683 - iva.detectnet_v2.dataio.dataset_converter_lib - INFO - \n",
      "Wrote the following numbers of objects:\n",
      "\n",
      "2021-04-16 05:18:44,683 - iva.detectnet_v2.dataio.dataset_converter_lib - INFO - Class map. \n",
      "Label in GT: Label in tfrecords file \n",
      "For the dataset_config in the experiment_spec, please use labels in the tfrecords file, while writing the classmap.\n",
      "\n",
      "2021-04-16 05:18:44,683 - iva.detectnet_v2.dataio.dataset_converter_lib - INFO - Tfrecords generation complete.\n",
      "2021-04-16 13:18:45,244 [INFO] tlt.components.docker_handler.docker_handler: Stopping container.\n"
     ]
    }
   ],
   "source": [
    "# Creating a new directory for the output tfrecords dump.\n",
    "print(\"Converting Tfrecords for kitti trainval dataset\")\n",
    "\n",
    "\n",
    "!tlt detectnet_v2 dataset_convert \\\n",
    "                  -d $SPECS_DIR/detectnet_v2_tfrecords_kitti_trainval.txt \\\n",
    "                  -o $DATA_DOWNLOAD_DIR/tfrecords/kitti_trainval/kitti_trainval"
   ]
  },
  {
   "cell_type": "code",
   "execution_count": 10,
   "metadata": {
    "scrolled": true
   },
   "outputs": [
    {
     "name": "stdout",
     "output_type": "stream",
     "text": [
      "total 0\r\n",
      "-rw-r--r-- 1 root root 0 4月  16 13:18 kitti_trainval-fold-001-of-002-shard-00009-of-00010\r\n",
      "-rw-r--r-- 1 root root 0 4月  16 13:18 kitti_trainval-fold-001-of-002-shard-00008-of-00010\r\n",
      "-rw-r--r-- 1 root root 0 4月  16 13:18 kitti_trainval-fold-001-of-002-shard-00007-of-00010\r\n",
      "-rw-r--r-- 1 root root 0 4月  16 13:18 kitti_trainval-fold-001-of-002-shard-00006-of-00010\r\n",
      "-rw-r--r-- 1 root root 0 4月  16 13:18 kitti_trainval-fold-001-of-002-shard-00005-of-00010\r\n",
      "-rw-r--r-- 1 root root 0 4月  16 13:18 kitti_trainval-fold-001-of-002-shard-00004-of-00010\r\n",
      "-rw-r--r-- 1 root root 0 4月  16 13:18 kitti_trainval-fold-001-of-002-shard-00003-of-00010\r\n",
      "-rw-r--r-- 1 root root 0 4月  16 13:18 kitti_trainval-fold-001-of-002-shard-00002-of-00010\r\n",
      "-rw-r--r-- 1 root root 0 4月  16 13:18 kitti_trainval-fold-001-of-002-shard-00001-of-00010\r\n",
      "-rw-r--r-- 1 root root 0 4月  16 13:18 kitti_trainval-fold-001-of-002-shard-00000-of-00010\r\n",
      "-rw-r--r-- 1 root root 0 4月  16 13:18 kitti_trainval-fold-000-of-002-shard-00009-of-00010\r\n",
      "-rw-r--r-- 1 root root 0 4月  16 13:18 kitti_trainval-fold-000-of-002-shard-00008-of-00010\r\n",
      "-rw-r--r-- 1 root root 0 4月  16 13:18 kitti_trainval-fold-000-of-002-shard-00007-of-00010\r\n",
      "-rw-r--r-- 1 root root 0 4月  16 13:18 kitti_trainval-fold-000-of-002-shard-00006-of-00010\r\n",
      "-rw-r--r-- 1 root root 0 4月  16 13:18 kitti_trainval-fold-000-of-002-shard-00005-of-00010\r\n",
      "-rw-r--r-- 1 root root 0 4月  16 13:18 kitti_trainval-fold-000-of-002-shard-00004-of-00010\r\n",
      "-rw-r--r-- 1 root root 0 4月  16 13:18 kitti_trainval-fold-000-of-002-shard-00003-of-00010\r\n",
      "-rw-r--r-- 1 root root 0 4月  16 13:18 kitti_trainval-fold-000-of-002-shard-00002-of-00010\r\n",
      "-rw-r--r-- 1 root root 0 4月  16 13:18 kitti_trainval-fold-000-of-002-shard-00001-of-00010\r\n",
      "-rw-r--r-- 1 root root 0 4月  16 13:18 kitti_trainval-fold-000-of-002-shard-00000-of-00010\r\n"
     ]
    }
   ],
   "source": [
    "!ls -rlt $LOCAL_DATA_DIR/tfrecords/kitti_trainval/"
   ]
  },
  {
   "cell_type": "markdown",
   "metadata": {},
   "source": [
    "### D. Download pre-trained model <a class=\"anchor\" id=\"head-2-4\"></a>\n",
    "Download the correct pretrained model from the NGC model registry for your experiment. Please note that for DetectNet_v2, the input is expected to be 0-1 normalized with input channels in RGB order. Therefore, for optimum results please download model templates from `nvidia/tlt_pretrained_detectnet_v2`. The templates are now organized as version strings. For example, to download a resnet18 model suitable for detectnet please resolve to the ngc object shown as `nvidia/tlt_pretrained_detectnet_v2:resnet18`. \n",
    "\n",
    "\n",
    "All other models are in BGR order expect input preprocessing with mean subtraction and input channels. Using them as pretrained weights may result in suboptimal performance.\n",
    "\n",
    "You may also use this notebook with the following purpose-built pretrained models \n",
    "* [PeopleNet](https://ngc.nvidia.com/catalog/models/nvidia:tlt_peoplenet)\n",
    "* [TrafficCamNet](https://ngc.nvidia.com/catalog/models/nvidia:tlt_trafficcamnet)\n",
    "* [DashCamNet](https://ngc.nvidia.com/catalog/models/nvidia:tlt_dashcamnet)\n",
    "* [FaceDetect-IR](https://ngc.nvidia.com/catalog/models/nvidia:tlt_facedetectir) "
   ]
  },
  {
   "cell_type": "code",
   "execution_count": 14,
   "metadata": {},
   "outputs": [
    {
     "name": "stdout",
     "output_type": "stream",
     "text": [
      "env: CLI=ngccli_reg_linux.zip\n",
      "--2021-04-16 13:21:39--  https://ngc.nvidia.com/downloads/ngccli_reg_linux.zip\n",
      "Resolving ngc.nvidia.com (ngc.nvidia.com)... 13.33.29.28, 13.33.29.95, 13.33.29.117, ...\n",
      "Connecting to ngc.nvidia.com (ngc.nvidia.com)|13.33.29.28|:443... connected.\n",
      "HTTP request sent, awaiting response... 200 OK\n",
      "Length: 24965732 (24M) [application/zip]\n",
      "Saving to: ‘/home/ucit/TESTData/ngccli/ngccli_reg_linux.zip’\n",
      "\n",
      "ngccli_reg_linux.zi 100%[===================>]  23.81M  7.87MB/s    in 3.0s    \n",
      "\n",
      "2021-04-16 13:21:43 (7.87 MB/s) - ‘/home/ucit/TESTData/ngccli/ngccli_reg_linux.zip’ saved [24965732/24965732]\n",
      "\n",
      "Archive:  /home/ucit/TESTData/ngccli/ngccli_reg_linux.zip\n",
      "  inflating: /home/ucit/TESTData/ngccli/ngc  \n",
      " extracting: /home/ucit/TESTData/ngccli/ngc.md5  \n"
     ]
    }
   ],
   "source": [
    "# Installing NGC CLI on the local machine.\n",
    "## Download and install\n",
    "%env CLI=ngccli_reg_linux.zip\n",
    "!mkdir -p $LOCAL_PROJECT_DIR/ngccli\n",
    "\n",
    "# Remove any previously existing CLI installations\n",
    "!rm -rf $LOCAL_PROJECT_DIR/ngccli/*\n",
    "!wget \"https://ngc.nvidia.com/downloads/$CLI\" -P $LOCAL_PROJECT_DIR/ngccli\n",
    "!unzip -u \"$LOCAL_PROJECT_DIR/ngccli/$CLI\" -d $LOCAL_PROJECT_DIR/ngccli/\n",
    "!rm $LOCAL_PROJECT_DIR/ngccli/*.zip \n",
    "os.environ[\"PATH\"]=\"{}/ngccli:{}\".format(os.getenv(\"LOCAL_PROJECT_DIR\", \"\"), os.getenv(\"PATH\", \"\"))"
   ]
  },
  {
   "cell_type": "code",
   "execution_count": null,
   "metadata": {},
   "outputs": [],
   "source": [
    "# List models available in the model registry.\n",
    "#!ngc registry model list nvidia/tlt_pretrained_detectnet_v2:*\n",
    "\n",
    "# the followed is modified via xuewei\n",
    "!ngc registry model download-version \"nvidia/tlt_trafficcamnet:unpruned_v1.0\""
   ]
  },
  {
   "cell_type": "code",
   "execution_count": null,
   "metadata": {},
   "outputs": [],
   "source": [
    "# Create the target destination to download the model.\n",
    "#!mkdir -p $LOCAL_EXPERIMENT_DIR/pretrained_resnet18/\n",
    "\n",
    "# for trafficCamera folder\n",
    "!mkdir -p $LOCAL_EXPERIMENT_DIR/pretrained_trafficcamnet/"
   ]
  },
  {
   "cell_type": "code",
   "execution_count": null,
   "metadata": {},
   "outputs": [],
   "source": [
    "# list all models can be used via xuewei\n",
    "!ngc registry model list nvidia/tlt_*"
   ]
  },
  {
   "cell_type": "code",
   "execution_count": null,
   "metadata": {},
   "outputs": [],
   "source": [
    "# Download the pretrained model from NGC\n",
    "!ngc registry model download-version nvidia/tlt_trafficcamnet:unpruned_v1.0 \\\n",
    "    --dest $LOCAL_EXPERIMENT_DIR/pretrained_trafficcamnet"
   ]
  },
  {
   "cell_type": "code",
   "execution_count": 15,
   "metadata": {},
   "outputs": [
    {
     "name": "stdout",
     "output_type": "stream",
     "text": [
      "total 45384\r\n",
      "-rw------- 1 ucit docker 46473000 4月  15 18:53 resnet18_trafficcamnet.tlt\r\n"
     ]
    }
   ],
   "source": [
    "#!ls -rlt $LOCAL_EXPERIMENT_DIR/pretrained_trafficcamnet/tlt_pretrained_detectnet_v2_vresnet18\n",
    "\n",
    "!ls -rlt $LOCAL_EXPERIMENT_DIR/pretrained_trafficcamnet/tlt_trafficcamnet_vunpruned_v1.0"
   ]
  },
  {
   "cell_type": "markdown",
   "metadata": {},
   "source": [
    "## 3. Provide training specification <a class=\"anchor\" id=\"head-3\"></a>\n",
    "* Tfrecords for the train datasets\n",
    "    * To use the newly generated tfrecords, update the dataset_config parameter in the spec file at `$SPECS_DIR/detectnet_v2_train_resnet18_kitti.txt` \n",
    "    * Update the fold number to use for evaluation. In case of random data split, please use fold `0` only\n",
    "    * For sequence-wise split, you may use any fold generated from the dataset convert tool\n",
    "* Pre-trained models\n",
    "* Augmentation parameters for on the fly data augmentation\n",
    "* Other training (hyper-)parameters such as batch size, number of epochs, learning rate etc."
   ]
  },
  {
   "cell_type": "code",
   "execution_count": 16,
   "metadata": {},
   "outputs": [
    {
     "name": "stdout",
     "output_type": "stream",
     "text": [
      "random_seed: 42\r\n",
      "dataset_config {\r\n",
      "  data_sources {\r\n",
      "    tfrecords_path: \"/workspace/tlt-experiments/data/tfrecords/kitti_trainval/*\"\r\n",
      "    image_directory_path: \"/workspace/tlt-experiments/data/training\"\r\n",
      "  }\r\n",
      "  image_extension: \"png\"\r\n",
      "  target_class_mapping {\r\n",
      "    key: \"car\"\r\n",
      "    value: \"car\"\r\n",
      "  }\r\n",
      "  target_class_mapping {\r\n",
      "    key: \"cyclist\"\r\n",
      "    value: \"cyclist\"\r\n",
      "  }\r\n",
      "  target_class_mapping {\r\n",
      "    key: \"pedestrian\"\r\n",
      "    value: \"pedestrian\"\r\n",
      "  }\r\n",
      "  target_class_mapping {\r\n",
      "    key: \"person_sitting\"\r\n",
      "    value: \"pedestrian\"\r\n",
      "  }\r\n",
      "  target_class_mapping {\r\n",
      "    key: \"van\"\r\n",
      "    value: \"car\"\r\n",
      "  }\r\n",
      "  validation_fold: 0\r\n",
      "}\r\n",
      "augmentation_config {\r\n",
      "  preprocessing {\r\n",
      "    output_image_width: 1248\r\n",
      "    output_image_height: 384\r\n",
      "    min_bbox_width: 1.0\r\n",
      "    min_bbox_height: 1.0\r\n",
      "    output_image_channel: 3\r\n",
      "  }\r\n",
      "  spatial_augmentation {\r\n",
      "    hflip_probability: 0.5\r\n",
      "    zoom_min: 1.0\r\n",
      "    zoom_max: 1.0\r\n",
      "    translate_max_x: 8.0\r\n",
      "    translate_max_y: 8.0\r\n",
      "  }\r\n",
      "  color_augmentation {\r\n",
      "    hue_rotation_max: 25.0\r\n",
      "    saturation_shift_max: 0.20000000298\r\n",
      "    contrast_scale_max: 0.10000000149\r\n",
      "    contrast_center: 0.5\r\n",
      "  }\r\n",
      "}\r\n",
      "postprocessing_config {\r\n",
      "  target_class_config {\r\n",
      "    key: \"car\"\r\n",
      "    value {\r\n",
      "      clustering_config {\r\n",
      "        clustering_algorithm: DBSCAN\r\n",
      "        dbscan_confidence_threshold: 0.9\r\n",
      "        coverage_threshold: 0.00499999988824\r\n",
      "        dbscan_eps: 0.20000000298\r\n",
      "        dbscan_min_samples: 0.0500000007451\r\n",
      "        minimum_bounding_box_height: 20\r\n",
      "      }\r\n",
      "    }\r\n",
      "  }\r\n",
      "  target_class_config {\r\n",
      "    key: \"cyclist\"\r\n",
      "    value {\r\n",
      "      clustering_config {\r\n",
      "        clustering_algorithm: DBSCAN\r\n",
      "        dbscan_confidence_threshold: 0.9\r\n",
      "        coverage_threshold: 0.00499999988824\r\n",
      "        dbscan_eps: 0.15000000596\r\n",
      "        dbscan_min_samples: 0.0500000007451\r\n",
      "        minimum_bounding_box_height: 20\r\n",
      "      }\r\n",
      "    }\r\n",
      "  }\r\n",
      "  target_class_config {\r\n",
      "    key: \"pedestrian\"\r\n",
      "    value {\r\n",
      "      clustering_config {\r\n",
      "        clustering_algorithm: DBSCAN\r\n",
      "        dbscan_confidence_threshold: 0.9\r\n",
      "        coverage_threshold: 0.00749999983236\r\n",
      "        dbscan_eps: 0.230000004172\r\n",
      "        dbscan_min_samples: 0.0500000007451\r\n",
      "        minimum_bounding_box_height: 20\r\n",
      "      }\r\n",
      "    }\r\n",
      "  }\r\n",
      "}\r\n",
      "model_config {\r\n",
      "  pretrained_model_file: \"/workspace/tlt-experiments/detectnet_v2/pretrained_resnet18/tlt_pretrained_detectnet_v2_vresnet18/resnet18.hdf5\"\r\n",
      "  num_layers: 18\r\n",
      "  use_batch_norm: true\r\n",
      "  objective_set {\r\n",
      "    bbox {\r\n",
      "      scale: 35.0\r\n",
      "      offset: 0.5\r\n",
      "    }\r\n",
      "    cov {\r\n",
      "    }\r\n",
      "  }\r\n",
      "  training_precision {\r\n",
      "    backend_floatx: FLOAT32\r\n",
      "  }\r\n",
      "  arch: \"resnet\"\r\n",
      "}\r\n",
      "evaluation_config {\r\n",
      "  validation_period_during_training: 10\r\n",
      "  first_validation_epoch: 30\r\n",
      "  minimum_detection_ground_truth_overlap {\r\n",
      "    key: \"car\"\r\n",
      "    value: 0.699999988079\r\n",
      "  }\r\n",
      "  minimum_detection_ground_truth_overlap {\r\n",
      "    key: \"cyclist\"\r\n",
      "    value: 0.5\r\n",
      "  }\r\n",
      "  minimum_detection_ground_truth_overlap {\r\n",
      "    key: \"pedestrian\"\r\n",
      "    value: 0.5\r\n",
      "  }\r\n",
      "  evaluation_box_config {\r\n",
      "    key: \"car\"\r\n",
      "    value {\r\n",
      "      minimum_height: 20\r\n",
      "      maximum_height: 9999\r\n",
      "      minimum_width: 10\r\n",
      "      maximum_width: 9999\r\n",
      "    }\r\n",
      "  }\r\n",
      "  evaluation_box_config {\r\n",
      "    key: \"cyclist\"\r\n",
      "    value {\r\n",
      "      minimum_height: 20\r\n",
      "      maximum_height: 9999\r\n",
      "      minimum_width: 10\r\n",
      "      maximum_width: 9999\r\n",
      "    }\r\n",
      "  }\r\n",
      "  evaluation_box_config {\r\n",
      "    key: \"pedestrian\"\r\n",
      "    value {\r\n",
      "      minimum_height: 20\r\n",
      "      maximum_height: 9999\r\n",
      "      minimum_width: 10\r\n",
      "      maximum_width: 9999\r\n",
      "    }\r\n",
      "  }\r\n",
      "  average_precision_mode: INTEGRATE\r\n",
      "}\r\n",
      "cost_function_config {\r\n",
      "  target_classes {\r\n",
      "    name: \"car\"\r\n",
      "    class_weight: 1.0\r\n",
      "    coverage_foreground_weight: 0.0500000007451\r\n",
      "    objectives {\r\n",
      "      name: \"cov\"\r\n",
      "      initial_weight: 1.0\r\n",
      "      weight_target: 1.0\r\n",
      "    }\r\n",
      "    objectives {\r\n",
      "      name: \"bbox\"\r\n",
      "      initial_weight: 10.0\r\n",
      "      weight_target: 10.0\r\n",
      "    }\r\n",
      "  }\r\n",
      "  target_classes {\r\n",
      "    name: \"cyclist\"\r\n",
      "    class_weight: 8.0\r\n",
      "    coverage_foreground_weight: 0.0500000007451\r\n",
      "    objectives {\r\n",
      "      name: \"cov\"\r\n",
      "      initial_weight: 1.0\r\n",
      "      weight_target: 1.0\r\n",
      "    }\r\n",
      "    objectives {\r\n",
      "      name: \"bbox\"\r\n",
      "      initial_weight: 10.0\r\n",
      "      weight_target: 1.0\r\n",
      "    }\r\n",
      "  }\r\n",
      "  target_classes {\r\n",
      "    name: \"pedestrian\"\r\n",
      "    class_weight: 4.0\r\n",
      "    coverage_foreground_weight: 0.0500000007451\r\n",
      "    objectives {\r\n",
      "      name: \"cov\"\r\n",
      "      initial_weight: 1.0\r\n",
      "      weight_target: 1.0\r\n",
      "    }\r\n",
      "    objectives {\r\n",
      "      name: \"bbox\"\r\n",
      "      initial_weight: 10.0\r\n",
      "      weight_target: 10.0\r\n",
      "    }\r\n",
      "  }\r\n",
      "  enable_autoweighting: true\r\n",
      "  max_objective_weight: 0.999899983406\r\n",
      "  min_objective_weight: 9.99999974738e-05\r\n",
      "}\r\n",
      "training_config {\r\n",
      "  batch_size_per_gpu: 4\r\n",
      "  num_epochs: 120\r\n",
      "  learning_rate {\r\n",
      "    soft_start_annealing_schedule {\r\n",
      "      min_learning_rate: 5e-06\r\n",
      "      max_learning_rate: 5e-04\r\n",
      "      soft_start: 0.10000000149\r\n",
      "      annealing: 0.699999988079\r\n",
      "    }\r\n",
      "  }\r\n",
      "  regularizer {\r\n",
      "    type: L1\r\n",
      "    weight: 3.00000002618e-09\r\n",
      "  }\r\n",
      "  optimizer {\r\n",
      "    adam {\r\n",
      "      epsilon: 9.99999993923e-09\r\n",
      "      beta1: 0.899999976158\r\n",
      "      beta2: 0.999000012875\r\n",
      "    }\r\n",
      "  }\r\n",
      "  cost_scaling {\r\n",
      "    initial_exponent: 20.0\r\n",
      "    increment: 0.005\r\n",
      "    decrement: 1.0\r\n",
      "  }\r\n",
      "  checkpoint_interval: 10\r\n",
      "}\r\n",
      "bbox_rasterizer_config {\r\n",
      "  target_class_config {\r\n",
      "    key: \"car\"\r\n",
      "    value {\r\n",
      "      cov_center_x: 0.5\r\n",
      "      cov_center_y: 0.5\r\n",
      "      cov_radius_x: 0.40000000596\r\n",
      "      cov_radius_y: 0.40000000596\r\n",
      "      bbox_min_radius: 1.0\r\n",
      "    }\r\n",
      "  }\r\n",
      "  target_class_config {\r\n",
      "    key: \"cyclist\"\r\n",
      "    value {\r\n",
      "      cov_center_x: 0.5\r\n",
      "      cov_center_y: 0.5\r\n",
      "      cov_radius_x: 1.0\r\n",
      "      cov_radius_y: 1.0\r\n",
      "      bbox_min_radius: 1.0\r\n",
      "    }\r\n",
      "  }\r\n",
      "  target_class_config {\r\n",
      "    key: \"pedestrian\"\r\n",
      "    value {\r\n",
      "      cov_center_x: 0.5\r\n",
      "      cov_center_y: 0.5\r\n",
      "      cov_radius_x: 1.0\r\n",
      "      cov_radius_y: 1.0\r\n",
      "      bbox_min_radius: 1.0\r\n",
      "    }\r\n",
      "  }\r\n",
      "  deadzone_radius: 0.400000154972\r\n",
      "}\r\n"
     ]
    }
   ],
   "source": [
    "!cat $LOCAL_SPECS_DIR/detectnet_v2_train_resnet18_kitti.txt"
   ]
  },
  {
   "cell_type": "markdown",
   "metadata": {},
   "source": [
    "## 4. Run TLT training <a class=\"anchor\" id=\"head-4\"></a>\n",
    "* Provide the sample spec file and the output directory location for models\n",
    "\n",
    "*Note: The training may take hours to complete. Also, the remaining notebook, assumes that the training was done in single-GPU mode. When run in multi-GPU mode, please expect to update the pruning and inference steps with new pruning thresholds and updated parameters in the clusterfile.json accordingly for optimum performance.*\n",
    "\n",
    "*Detectnet_v2 now supports restart from checkpoint. Incase the training job is killed prematurely, you may resume training from the closest checkpoint by simply re-running the **same** command line. Please do make sure to use the <u>**same number of GPUs**</u> when restarting the training.*\n",
    "\n",
    "*When running the training with NUM_GPUs>1, you may need to modify the `batc_size_per_gpu` and `learning_rate` to get similar mAP as a 1GPU training run. In most cases, scaling down the batch-size by a factor of NUM_GPU's or scaling up the learning rate by a factor of NUM_GPU's would be a good place to start.* "
   ]
  },
  {
   "cell_type": "code",
   "execution_count": 17,
   "metadata": {},
   "outputs": [
    {
     "name": "stdout",
     "output_type": "stream",
     "text": [
      "2021-04-16 13:22:05,964 [WARNING] tlt.components.docker_handler.docker_handler: \n",
      "Docker will run the commands as root. If you would like to retain your\n",
      "local host permissions, please add the \"user\":\"UID:GID\" in the\n",
      "DockerOptions portion of the ~/.tlt_mounts.json file. You can obtain your\n",
      "users UID and GID by using the \"id -u\" and \"id -g\" commands on the\n",
      "terminal.\n",
      "Using TensorFlow backend.\n",
      "WARNING:tensorflow:Deprecation warnings have been disabled. Set TF_ENABLE_DEPRECATION_WARNINGS=1 to re-enable them.\n",
      "Using TensorFlow backend.\n",
      "WARNING:tensorflow:From /home/vpraveen/.cache/dazel/_dazel_vpraveen/216c8b41e526c3295d3b802489ac2034/execroot/ai_infra/bazel-out/k8-fastbuild/bin/magnet/packages/iva/build_wheel.runfiles/ai_infra/iva/detectnet_v2/cost_function/cost_auto_weight_hook.py:43: The name tf.train.SessionRunHook is deprecated. Please use tf.estimator.SessionRunHook instead.\n",
      "\n",
      "WARNING:tensorflow:From /home/vpraveen/.cache/dazel/_dazel_vpraveen/216c8b41e526c3295d3b802489ac2034/execroot/ai_infra/bazel-out/k8-fastbuild/bin/magnet/packages/iva/build_wheel.runfiles/ai_infra/iva/detectnet_v2/tfhooks/checkpoint_saver_hook.py:25: The name tf.train.CheckpointSaverHook is deprecated. Please use tf.estimator.CheckpointSaverHook instead.\n",
      "\n",
      "WARNING:tensorflow:From /home/vpraveen/.cache/dazel/_dazel_vpraveen/216c8b41e526c3295d3b802489ac2034/execroot/ai_infra/bazel-out/k8-fastbuild/bin/magnet/packages/iva/build_wheel.runfiles/ai_infra/iva/detectnet_v2/scripts/train.py:67: The name tf.logging.set_verbosity is deprecated. Please use tf.compat.v1.logging.set_verbosity instead.\n",
      "\n",
      "WARNING:tensorflow:From /home/vpraveen/.cache/dazel/_dazel_vpraveen/216c8b41e526c3295d3b802489ac2034/execroot/ai_infra/bazel-out/k8-fastbuild/bin/magnet/packages/iva/build_wheel.runfiles/ai_infra/iva/detectnet_v2/scripts/train.py:67: The name tf.logging.INFO is deprecated. Please use tf.compat.v1.logging.INFO instead.\n",
      "\n",
      "WARNING:tensorflow:From /usr/local/lib/python3.6/dist-packages/horovod/tensorflow/__init__.py:117: The name tf.global_variables is deprecated. Please use tf.compat.v1.global_variables instead.\n",
      "\n",
      "2021-04-16 05:22:10,376 [WARNING] tensorflow: From /usr/local/lib/python3.6/dist-packages/horovod/tensorflow/__init__.py:117: The name tf.global_variables is deprecated. Please use tf.compat.v1.global_variables instead.\n",
      "\n",
      "WARNING:tensorflow:From /usr/local/lib/python3.6/dist-packages/horovod/tensorflow/__init__.py:143: The name tf.get_default_graph is deprecated. Please use tf.compat.v1.get_default_graph instead.\n",
      "\n",
      "2021-04-16 05:22:10,376 [WARNING] tensorflow: From /usr/local/lib/python3.6/dist-packages/horovod/tensorflow/__init__.py:143: The name tf.get_default_graph is deprecated. Please use tf.compat.v1.get_default_graph instead.\n",
      "\n",
      "2021-04-16 05:22:10,739 [INFO] __main__: Loading experiment spec at /workspace/tlt-experiments/detectnet_v2/specs/detectnet_v2_train_resnet18_kitti.txt.\n",
      "2021-04-16 05:22:10,740 [INFO] iva.detectnet_v2.spec_handler.spec_loader: Merging specification from /workspace/tlt-experiments/detectnet_v2/specs/detectnet_v2_train_resnet18_kitti.txt\n",
      "Traceback (most recent call last):\n",
      "  File \"/home/vpraveen/.cache/dazel/_dazel_vpraveen/216c8b41e526c3295d3b802489ac2034/execroot/ai_infra/bazel-out/k8-fastbuild/bin/magnet/packages/iva/build_wheel.runfiles/ai_infra/iva/detectnet_v2/scripts/train.py\", line 797, in <module>\n",
      "  File \"<decorator-gen-2>\", line 2, in main\n",
      "  File \"/home/vpraveen/.cache/dazel/_dazel_vpraveen/216c8b41e526c3295d3b802489ac2034/execroot/ai_infra/bazel-out/k8-fastbuild/bin/magnet/packages/iva/build_wheel.runfiles/ai_infra/iva/detectnet_v2/utilities/timer.py\", line 46, in wrapped_fn\n",
      "  File \"/home/vpraveen/.cache/dazel/_dazel_vpraveen/216c8b41e526c3295d3b802489ac2034/execroot/ai_infra/bazel-out/k8-fastbuild/bin/magnet/packages/iva/build_wheel.runfiles/ai_infra/iva/detectnet_v2/scripts/train.py\", line 790, in main\n",
      "  File \"/home/vpraveen/.cache/dazel/_dazel_vpraveen/216c8b41e526c3295d3b802489ac2034/execroot/ai_infra/bazel-out/k8-fastbuild/bin/magnet/packages/iva/build_wheel.runfiles/ai_infra/iva/detectnet_v2/scripts/train.py\", line 691, in run_experiment\n",
      "  File \"/home/vpraveen/.cache/dazel/_dazel_vpraveen/216c8b41e526c3295d3b802489ac2034/execroot/ai_infra/bazel-out/k8-fastbuild/bin/magnet/packages/iva/build_wheel.runfiles/ai_infra/iva/detectnet_v2/scripts/train.py\", line 569, in train_gridbox\n",
      "  File \"/home/vpraveen/.cache/dazel/_dazel_vpraveen/216c8b41e526c3295d3b802489ac2034/execroot/ai_infra/bazel-out/k8-fastbuild/bin/magnet/packages/iva/build_wheel.runfiles/ai_infra/iva/detectnet_v2/cost_function/cost_auto_weight_hook.py\", line 26, in build_cost_auto_weight_hook\n",
      "ValueError: steps_per_epoch must be > 0\n",
      "Traceback (most recent call last):\n",
      "  File \"/usr/local/bin/detectnet_v2\", line 8, in <module>\n",
      "    sys.exit(main())\n",
      "  File \"/home/vpraveen/.cache/dazel/_dazel_vpraveen/216c8b41e526c3295d3b802489ac2034/execroot/ai_infra/bazel-out/k8-fastbuild/bin/magnet/packages/iva/build_wheel.runfiles/ai_infra/iva/detectnet_v2/entrypoint/detectnet_v2.py\", line 12, in main\n",
      "  File \"/home/vpraveen/.cache/dazel/_dazel_vpraveen/216c8b41e526c3295d3b802489ac2034/execroot/ai_infra/bazel-out/k8-fastbuild/bin/magnet/packages/iva/build_wheel.runfiles/ai_infra/iva/common/entrypoint/entrypoint.py\", line 296, in launch_job\n",
      "AssertionError: Process run failed.\n",
      "2021-04-16 13:22:11,487 [INFO] tlt.components.docker_handler.docker_handler: Stopping container.\n"
     ]
    }
   ],
   "source": [
    "!tlt detectnet_v2 train -e $SPECS_DIR/detectnet_v2_train_resnet18_kitti.txt \\\n",
    "                        -r $USER_EXPERIMENT_DIR/traffic_experiment_dir_unpruned \\\n",
    "                        -k $KEY \\\n",
    "                        -n resnet18_traffic_detector \\\n",
    "                        --gpus $NUM_GPUS"
   ]
  },
  {
   "cell_type": "code",
   "execution_count": null,
   "metadata": {},
   "outputs": [],
   "source": [
    "print('Model for each epoch:')\n",
    "print('---------------------')\n",
    "!ls -lh $LOCAL_EXPERIMENT_DIR/traffic_experiment_dir_unpruned/weights"
   ]
  },
  {
   "cell_type": "markdown",
   "metadata": {},
   "source": [
    "## 5. Evaluate the trained model <a class=\"anchor\" id=\"head-5\"></a>"
   ]
  },
  {
   "cell_type": "code",
   "execution_count": null,
   "metadata": {
    "scrolled": true
   },
   "outputs": [],
   "source": [
    "!tlt detectnet_v2 evaluate -e $SPECS_DIR/detectnet_v2_train_resnet18_kitti.txt\\\n",
    "                           -m $USER_EXPERIMENT_DIR/experiment_dir_unpruned/weights/resnet18_traffic_detector.tlt \\\n",
    "                           -k $KEY"
   ]
  },
  {
   "cell_type": "markdown",
   "metadata": {},
   "source": [
    "## 6. Prune the trained model <a class=\"anchor\" id=\"head-6\"></a>\n",
    "* Specify pre-trained model\n",
    "* Equalization criterion (`Applicable for resnets and mobilenets`)\n",
    "* Threshold for pruning.\n",
    "* A key to save and load the model\n",
    "* Output directory to store the model\n",
    "\n",
    "*Usually, you just need to adjust `-pth` (threshold) for accuracy and model size trade off. Higher `pth` gives you smaller model (and thus higher inference speed) but worse accuracy. The threshold to use is dependent on the dataset. A pth value `5.2e-6` is just a start point. If the retrain accuracy is good, you can increase this value to get smaller models. Otherwise, lower this value to get better accuracy.*\n",
    "\n",
    "*For some internal studies, we have noticed that a pth value of 0.01 is a good starting point for detectnet_v2 models.*"
   ]
  },
  {
   "cell_type": "code",
   "execution_count": null,
   "metadata": {},
   "outputs": [],
   "source": [
    "# Create an output directory if it doesn't exist.\n",
    "#!mkdir -p $LOCAL_EXPERIMENT_DIR/experiment_dir_pruned\n",
    "\n",
    "!mkdir -p $LOCAL_EXPERIMENT_DIR/traffic_dir_pruned"
   ]
  },
  {
   "cell_type": "code",
   "execution_count": null,
   "metadata": {},
   "outputs": [],
   "source": [
    "!tlt detectnet_v2 prune \\\n",
    "                  -m $USER_EXPERIMENT_DIR/traffic_dir_pruned/weights/resnet18_traffic_detector.tlt \\\n",
    "                  -o $USER_EXPERIMENT_DIR/traffic_dir_pruned/resnet18_traffic_detector_pruned.tlt \\\n",
    "                  -eq union \\\n",
    "                  -pth 0.0000052 \\\n",
    "                  -k $KEY"
   ]
  },
  {
   "cell_type": "code",
   "execution_count": null,
   "metadata": {},
   "outputs": [],
   "source": [
    "!ls -rlt $LOCAL_EXPERIMENT_DIR/traffic_dir_pruned/"
   ]
  },
  {
   "cell_type": "markdown",
   "metadata": {},
   "source": [
    "## 7. Retrain the pruned model <a class=\"anchor\" id=\"head-7\"></a>\n",
    "* Model needs to be re-trained to bring back accuracy after pruning\n",
    "* Specify re-training specification with pretrained weights as pruned model.\n",
    "\n",
    "*Note: For retraining, please set the `load_graph` option to `true` in the model_config to load the pruned model graph. Also, if after retraining, the model shows some decrease in mAP, it could be that the originally trained model was pruned a little too much. Please try reducing the pruning threshold (thereby reducing the pruning ratio) and use the new model to retrain.*\n",
    "\n",
    "*Note: DetectNet_v2 now supports Quantization Aware Training, to help with optmizing the model. By default, the training in the cell below doesn't run the model with QAT enabled. For information on training a model with QAT, please refer to the cells under [section 11](#head-11)*"
   ]
  },
  {
   "cell_type": "code",
   "execution_count": null,
   "metadata": {},
   "outputs": [],
   "source": [
    "# Printing the retrain experiment file. \n",
    "# Note: We have updated the experiment file to include the \n",
    "# newly pruned model as a pretrained weights and, the\n",
    "# load_graph option is set to true \n",
    "!cat $LOCAL_SPECS_DIR/detectnet_v2_retrain_resnet18_kitti.txt"
   ]
  },
  {
   "cell_type": "code",
   "execution_count": null,
   "metadata": {},
   "outputs": [],
   "source": [
    "# Retraining using the pruned model as pretrained weights \n",
    "!tlt detectnet_v2 train -e $SPECS_DIR/detectnet_v2_retrain_resnet18_kitti.txt \\\n",
    "                        -r $USER_EXPERIMENT_DIR/traffic_experiment_dir_retrain \\\n",
    "                        -k $KEY \\\n",
    "                        -n resnet18_traffic_detector_pruned \\\n",
    "                        --gpus $NUM_GPUS"
   ]
  },
  {
   "cell_type": "code",
   "execution_count": null,
   "metadata": {},
   "outputs": [],
   "source": [
    "# Listing the newly retrained model.\n",
    "!ls -rlt $LOCAL_EXPERIMENT_DIR/traffic_experiment_dir_retrain/weights"
   ]
  },
  {
   "cell_type": "markdown",
   "metadata": {},
   "source": [
    "## 8. Evaluate the retrained model <a class=\"anchor\" id=\"head-8\"></a>"
   ]
  },
  {
   "cell_type": "markdown",
   "metadata": {},
   "source": [
    "This section evaluates the pruned and retrained model, using the `evaluate` command."
   ]
  },
  {
   "cell_type": "code",
   "execution_count": null,
   "metadata": {},
   "outputs": [],
   "source": [
    "!tlt detectnet_v2 evaluate -e $SPECS_DIR/detectnet_v2_retrain_resnet18_kitti.txt \\\n",
    "                           -m $USER_EXPERIMENT_DIR/experiment_dir_retrain/weights/resnet18_detector_pruned.tlt \\\n",
    "                           -k $KEY"
   ]
  },
  {
   "cell_type": "markdown",
   "metadata": {},
   "source": [
    "## 9. Visualize inferences <a class=\"anchor\" id=\"head-9\"></a>\n",
    "In this section, we run the `inference` tool to generate inferences on the trained models. To render bboxes from more classes, please edit the spec file `detectnet_v2_inference_kitti_tlt.txt` to include all the classes you would like to visualize and edit the rest of the file accordingly."
   ]
  },
  {
   "cell_type": "code",
   "execution_count": null,
   "metadata": {},
   "outputs": [],
   "source": [
    "# Running inference for detection on n images\n",
    "!tlt detectnet_v2 inference -e $SPECS_DIR/detectnet_v2_inference_kitti_tlt.txt \\\n",
    "                            -o $USER_EXPERIMENT_DIR/tlt_infer_testing \\\n",
    "                            -i $DATA_DOWNLOAD_DIR/testing/image_2 \\\n",
    "                            -k $KEY"
   ]
  },
  {
   "cell_type": "markdown",
   "metadata": {},
   "source": [
    "The `inference` tool produces two outputs. \n",
    "1. Overlain images in `$USER_EXPERIMENT_DIR/tlt_infer_testing/images_annotated`\n",
    "2. Frame by frame bbox labels in kitti format located in `$USER_EXPERIMENT_DIR/tlt_infer_testing/labels`\n",
    "\n",
    "*Note: To run inferences for a single image, simply replace the path to the -i flag in `inference` command with the path to the image.*"
   ]
  },
  {
   "cell_type": "code",
   "execution_count": null,
   "metadata": {},
   "outputs": [],
   "source": [
    "# Simple grid visualizer\n",
    "!pip3 install matplotlib==3.3.3\n",
    "%matplotlib inline\n",
    "import matplotlib.pyplot as plt\n",
    "import os\n",
    "from math import ceil\n",
    "valid_image_ext = ['.jpg', '.png', '.jpeg', '.ppm']\n",
    "\n",
    "def visualize_images(image_dir, num_cols=4, num_images=10):\n",
    "    output_path = os.path.join(os.environ['LOCAL_EXPERIMENT_DIR'], image_dir)\n",
    "    num_rows = int(ceil(float(num_images) / float(num_cols)))\n",
    "    f, axarr = plt.subplots(num_rows, num_cols, figsize=[80,30])\n",
    "    f.tight_layout()\n",
    "    a = [os.path.join(output_path, image) for image in os.listdir(output_path) \n",
    "         if os.path.splitext(image)[1].lower() in valid_image_ext]\n",
    "    for idx, img_path in enumerate(a[:num_images]):\n",
    "        col_id = idx % num_cols\n",
    "        row_id = idx // num_cols\n",
    "        img = plt.imread(img_path)\n",
    "        axarr[row_id, col_id].imshow(img) "
   ]
  },
  {
   "cell_type": "code",
   "execution_count": null,
   "metadata": {
    "scrolled": true
   },
   "outputs": [],
   "source": [
    "# Visualizing the first 12 images.\n",
    "OUTPUT_PATH = 'tlt_infer_testing/images_annotated' # relative path from $USER_EXPERIMENT_DIR.\n",
    "COLS = 4 # number of columns in the visualizer grid.\n",
    "IMAGES = 12 # number of images to visualize.\n",
    "\n",
    "visualize_images(OUTPUT_PATH, num_cols=COLS, num_images=IMAGES)"
   ]
  },
  {
   "cell_type": "markdown",
   "metadata": {},
   "source": [
    "## 10. Model Export <a class=\"anchor\" id=\"head-10\"></a>"
   ]
  },
  {
   "cell_type": "code",
   "execution_count": null,
   "metadata": {},
   "outputs": [],
   "source": [
    "!mkdir -p $LOCAL_EXPERIMENT_DIR/traffic_final\n",
    "# Removing a pre-existing copy of the etlt if there has been any.\n",
    "import os\n",
    "output_file=os.path.join(os.environ['LOCAL_EXPERIMENT_DIR'],\n",
    "                         \"traffic_final/resnet18_traffic_detector.etlt\")\n",
    "if os.path.exists(output_file):\n",
    "    os.system(\"rm {}\".format(output_file))\n",
    "!tlt detectnet_v2 export \\\n",
    "                  -m $USER_EXPERIMENT_DIR/traffic_experiment_dir_retrain/weights/resnet18_traffic_detector_pruned.tlt \\\n",
    "                  -o $USER_EXPERIMENT_DIR/traffic_final/resnet18_traffic_detector.etlt \\\n",
    "                  -k $KEY"
   ]
  },
  {
   "cell_type": "code",
   "execution_count": null,
   "metadata": {},
   "outputs": [],
   "source": [
    "print('Exported model:')\n",
    "print('------------')\n",
    "!ls -lh $LOCAL_EXPERIMENT_DIR/traffic_final"
   ]
  },
  {
   "cell_type": "markdown",
   "metadata": {},
   "source": [
    "### A. Int8 Optimization <a class=\"anchor\" id=\"head-10-1\"></a>\n",
    "DetectNet_v2 model supports int8 inference mode in TensorRT. \n",
    "In order to use int8 mode, we must calibrate the model to run 8-bit inferences -\n",
    "\n",
    "* Generate calibration tensorfile from the training data using detectnet_v2 calibration_tensorfile\n",
    "* Use tlt-export to generate int8 calibration table.\n",
    "\n",
    "*Note: For this example, we generate a calibration tensorfile containing 10 batches of training data.\n",
    "Ideally, it is best to use atleast 10-20% of the training data to do so. The more data provided during calibration, the closer int8 inferences are to fp32 inferences.*\n",
    "\n",
    "*Note: If the model was trained with QAT nodes available, please refrain from using the post training int8 optimization as mentioned below. Please export the model in int8 mode (using the arg `--data_type int8`) with just the path to the calibration cache file (using the argument `--cal_cache_file`)*"
   ]
  },
  {
   "cell_type": "code",
   "execution_count": null,
   "metadata": {},
   "outputs": [],
   "source": [
    "!tlt detectnet_v2 calibration_tensorfile -e $SPECS_DIR/detectnet_v2_retrain_resnet18_kitti.txt \\\n",
    "                                         -m 10 \\\n",
    "                                         -o $USER_EXPERIMENT_DIR/traffic_final/calibration.tensor"
   ]
  },
  {
   "cell_type": "code",
   "execution_count": null,
   "metadata": {},
   "outputs": [],
   "source": [
    "!rm -rf $LOCAL_EXPERIMENT_DIR/traffic_final/resnet18__traffic_detector.etlt\n",
    "!rm -rf $LOCAL_EXPERIMENT_DIR/traffic_final/calibration.bin\n",
    "!tlt detectnet_v2 export \\\n",
    "                  -m $USER_EXPERIMENT_DIR/traffic_experiment_dir_retrain/weights/resnet18_traffic_detector_pruned.tlt \\\n",
    "                  -o $USER_EXPERIMENT_DIR/traffic_final/resnet18_traffic_detector.etlt \\\n",
    "                  -k $KEY  \\\n",
    "                  --cal_data_file $USER_EXPERIMENT_DIR/traffic_final/calibration.tensor \\\n",
    "                  --data_type int8 \\\n",
    "                  --batches 10 \\\n",
    "                  --batch_size 4 \\\n",
    "                  --max_batch_size 4\\\n",
    "                  --engine_file $USER_EXPERIMENT_DIR/traffic_final/resnet18_traffic_detector.trt.int8 \\\n",
    "                  --cal_cache_file $USER_EXPERIMENT_DIR/traffic_final/calibration.bin \\\n",
    "                  --verbose"
   ]
  },
  {
   "cell_type": "markdown",
   "metadata": {},
   "source": [
    "### B. Generate TensorRT engine <a class=\"anchor\" id=\"head-10-2\"></a>\n",
    "Verify engine generation using the `tlt-converter` utility included with the docker.\n",
    "\n",
    "The `tlt-converter` produces optimized tensorrt engines for the platform that it resides on. Therefore, to get maximum performance, please instantiate this docker and execute the `tlt-converter` command, with the exported `.etlt` file and calibration cache (for int8 mode) on your target device. The converter utility included in this docker only works for x86 devices, with discrete NVIDIA GPU's. \n",
    "\n",
    "For the jetson devices, please download the converter for jetson from the dev zone link [here](https://developer.nvidia.com/tlt-converter). \n",
    "\n",
    "If you choose to integrate your model into deepstream directly, you may do so by simply copying the exported `.etlt` file along with the calibration cache to the target device and updating the spec file that configures the `gst-nvinfer` element to point to this newly exported model. Usually this file is called `config_infer_primary.txt` for detection models and `config_infer_secondary_*.txt` for classification models."
   ]
  },
  {
   "cell_type": "code",
   "execution_count": null,
   "metadata": {},
   "outputs": [],
   "source": [
    "!tlt tlt-converter $USER_EXPERIMENT_DIR/traffic_final/resnet18_traffic_detector.etlt \\\n",
    "                   -k $KEY \\\n",
    "                    -c $USER_EXPERIMENT_DIR/traffic_final/calibration.bin \\\n",
    "                   -o output_cov/Sigmoid,output_bbox/BiasAdd \\\n",
    "                   -d 3,384,1248 \\\n",
    "                   -i nchw \\\n",
    "                   -m 64 \\\n",
    "                   -t int8 \\\n",
    "                   -e $USER_EXPERIMENT_DIR/traffic_final/resnet18_traffic_detector.trt \\\n",
    "                   -b 4"
   ]
  },
  {
   "cell_type": "markdown",
   "metadata": {},
   "source": [
    "## 11. Verify Deployed Model <a class=\"anchor\" id=\"head-11\"></a>\n",
    "Verify the exported model by visualizing inferences on TensorRT.\n",
    "In addition to running inference on a `.tlt` model in [step 9](#head-9), the `inference` tool is also capable of consuming the converted `TensorRT engine` from [step 10.B](#head-10-2).\n",
    "\n",
    "*If after int-8 calibration the accuracy of the int-8 inferences seem to degrade, it could be because the there wasn't enough data in the calibration tensorfile used to calibrate thee model or, the training data is not entirely representative of your test images, and the calibration maybe incorrect. Therefore, you may either regenerate the calibration tensorfile with more batches of the training data and recalibrate the model, or calibrate the model on a few images from the test set. This may be done using `--cal_image_dir` flag in the `export` tool. For more information, please follow the instructions in the USER GUIDE."
   ]
  },
  {
   "cell_type": "markdown",
   "metadata": {},
   "source": [
    "### A. Inference using TensorRT engine <a class=\"anchor\" id=\"head-11-1\"></a>"
   ]
  },
  {
   "cell_type": "code",
   "execution_count": null,
   "metadata": {},
   "outputs": [],
   "source": [
    "!tlt detectnet_v2 inference -e $SPECS_DIR/detectnet_v2_inference_kitti_etlt.txt \\\n",
    "                            -o $USER_EXPERIMENT_DIR/etlt_infer_testing \\\n",
    "                            -i $DATA_DOWNLOAD_DIR/testing/image_2 \\\n",
    "                            -k $KEY"
   ]
  },
  {
   "cell_type": "code",
   "execution_count": null,
   "metadata": {},
   "outputs": [],
   "source": [
    "# visualize the first 12 inferenced images.\n",
    "OUTPUT_PATH = 'etlt_infer_testing/images_annotated' # relative path from $USER_EXPERIMENT_DIR.\n",
    "COLS = 4 # number of columns in the visualizer grid.\n",
    "IMAGES = 12 # number of images to visualize.\n",
    "\n",
    "visualize_images(OUTPUT_PATH, num_cols=COLS, num_images=IMAGES)"
   ]
  },
  {
   "cell_type": "markdown",
   "metadata": {},
   "source": [
    "## 11. QAT workflow <a class=\"anchor\" id=\"head-12\"></a>\n",
    "This section delves into the newly enabled Quantization Aware Training feature with DetectNet_v2. The workflow defined below converts a pruned model from section [5](#head-5) to enable QAT and retrain this model to while accounting the noise introduced due to quantization in the forward pass. "
   ]
  },
  {
   "cell_type": "markdown",
   "metadata": {},
   "source": [
    "### A. Convert pruned model to QAT and retrain <a class=\"anchor\" id=\"head-12-1\"></a>\n",
    "All detectnet models, unpruned and pruned models can be converted to QAT models by setting the `enable_qat` parameter in the `training_config` component of the spec file to `true`."
   ]
  },
  {
   "cell_type": "code",
   "execution_count": null,
   "metadata": {},
   "outputs": [],
   "source": [
    "# Printing the retrain experiment file. \n",
    "# Note: We have updated the experiment file to convert the\n",
    "# pretrained model to qat mode by setting the enable_qat\n",
    "# parameter.\n",
    "!cat $LOCAL_SPECS_DIR/detectnet_v2_retrain_resnet18_kitti_qat.txt"
   ]
  },
  {
   "cell_type": "code",
   "execution_count": null,
   "metadata": {},
   "outputs": [],
   "source": [
    "!tlt detectnet_v2 train -e $SPECS_DIR/detectnet_v2_retrain_resnet18_kitti_qat.txt \\\n",
    "                        -r $USER_EXPERIMENT_DIR/experiment_dir_retrain_qat \\\n",
    "                        -k $KEY \\\n",
    "                        -n resnet18_detector_pruned_qat \\\n",
    "                        --gpus $NUM_GPUS"
   ]
  },
  {
   "cell_type": "code",
   "execution_count": null,
   "metadata": {},
   "outputs": [],
   "source": [
    "!ls -rlt $LOCAL_EXPERIMENT_DIR/experiment_dir_retrain_qat/weights"
   ]
  },
  {
   "cell_type": "markdown",
   "metadata": {},
   "source": [
    "### B. Evaluate QAT converted model <a class=\"anchor\" id=\"head-12-2\"></a>\n",
    "This section evaluates a QAT enabled pruned retrained model. The mAP of this model should be comparable to that of the pruned retrained model without QAT. However, due to quantization, it is possible sometimes to see a drop in the mAP value for certain datasets."
   ]
  },
  {
   "cell_type": "code",
   "execution_count": null,
   "metadata": {},
   "outputs": [],
   "source": [
    "!tlt detectnet_v2 evaluate -e $SPECS_DIR/detectnet_v2_retrain_resnet18_kitti_qat.txt \\\n",
    "                           -m $USER_EXPERIMENT_DIR/experiment_dir_retrain_qat/weights/resnet18_detector_pruned_qat.tlt \\\n",
    "                           -k $KEY \\\n",
    "                           -f tlt"
   ]
  },
  {
   "cell_type": "markdown",
   "metadata": {},
   "source": [
    "### C. Export QAT trained model to int8 <a class=\"anchor\" id=\"head-12-3\"></a>\n",
    "Export a QAT trained model to TensorRT parsable model. This command generates an .etlt file from the trained model and the serializes corresponding int8 scales as a TRT readable calibration cache file."
   ]
  },
  {
   "cell_type": "code",
   "execution_count": null,
   "metadata": {},
   "outputs": [],
   "source": [
    "!rm -rf $LOCAL_EXPERIMENT_DIR/experiment_dir_final/resnet18_detector_qat.etlt\n",
    "!rm -rf $LOCAL_EXPERIMENT_DIR/experiment_dir_final/calibration_qat.bin\n",
    "!tlt detectnet_v2 export \\\n",
    "                  -m $USER_EXPERIMENT_DIR/experiment_dir_retrain_qat/weights/resnet18_detector_pruned_qat.tlt \\\n",
    "                  -o $USER_EXPERIMENT_DIR/experiment_dir_final/resnet18_detector_qat.etlt \\\n",
    "                  -k $KEY  \\\n",
    "                  --data_type int8 \\\n",
    "                  --batch_size 64 \\\n",
    "                  --max_batch_size 64\\\n",
    "                  --engine_file $USER_EXPERIMENT_DIR/experiment_dir_final/resnet18_detector_qat.trt.int8 \\\n",
    "                  --cal_cache_file $USER_EXPERIMENT_DIR/experiment_dir_final/calibration_qat.bin \\\n",
    "                  --verbose"
   ]
  },
  {
   "cell_type": "markdown",
   "metadata": {},
   "source": [
    "### D. Evaluate a QAT trained model using the exported TensorRT engine <a class=\"anchor\" id=\"head-12-4\"></a>\n",
    "This section evaluates a QAT enabled pruned retrained model using the TensorRT int8 engine that was exported in [Section C](#head-12-3). Please note that there maybe a slight difference (~0.1-0.5%) in the mAP from [Section B](#head-12-2), oweing to some differences in the implementation of quantization in TensorRT.\n",
    "\n",
    "*Note: The TensorRT evaluator might be slightly slower than the TLT evaluator here, because the evaluation dataloader is pinned to the CPU to avoid any clashes between TensorRT and TLT instances in the GPU. Please note that this tool was not intended and has not been developed for profiling the model. It is just a means to qualitatively analyse the model.*\n",
    "\n",
    "*Please use native TensorRT or DeepStream for the most optimized inferences.*"
   ]
  },
  {
   "cell_type": "code",
   "execution_count": null,
   "metadata": {},
   "outputs": [],
   "source": [
    "!tlt detectnet_v2 evaluate -e $SPECS_DIR/detectnet_v2_retrain_resnet18_kitti_qat.txt \\\n",
    "                           -m $USER_EXPERIMENT_DIR/experiment_dir_final/resnet18_detector_qat.trt.int8 \\\n",
    "                           -f tensorrt"
   ]
  },
  {
   "cell_type": "markdown",
   "metadata": {},
   "source": [
    "### E. Inference using QAT engine <a class=\"anchor\" id=\"head-12-5\"></a>\n",
    "Run inference and visualize detections on test images, using the exported TensorRT engine from [Section C](#head-12-3)."
   ]
  },
  {
   "cell_type": "code",
   "execution_count": null,
   "metadata": {},
   "outputs": [],
   "source": [
    "!tlt detectnet_v2 inference -e $SPECS_DIR/detectnet_v2_inference_kitti_etlt_qat.txt \\\n",
    "                            -o $USER_EXPERIMENT_DIR/tlt_infer_testing_qat \\\n",
    "                            -i $DATA_DOWNLOAD_DIR/testing/image_2 \\\n",
    "                            -k $KEY"
   ]
  },
  {
   "cell_type": "code",
   "execution_count": null,
   "metadata": {},
   "outputs": [],
   "source": [
    "# visualize the first 12 inferenced images.\n",
    "OUTPUT_PATH = 'tlt_infer_testing_qat/images_annotated' # relative path from $USER_EXPERIMENT_DIR.\n",
    "COLS = 4 # number of columns in the visualizer grid.\n",
    "IMAGES = 12 # number of images to visualize.\n",
    "\n",
    "visualize_images(OUTPUT_PATH, num_cols=COLS, num_images=IMAGES)"
   ]
  }
 ],
 "metadata": {
  "kernelspec": {
   "display_name": "Python 3",
   "language": "python",
   "name": "python3"
  },
  "language_info": {
   "codemirror_mode": {
    "name": "ipython",
    "version": 3
   },
   "file_extension": ".py",
   "mimetype": "text/x-python",
   "name": "python",
   "nbconvert_exporter": "python",
   "pygments_lexer": "ipython3",
   "version": "3.6.9"
  }
 },
 "nbformat": 4,
 "nbformat_minor": 2
}
